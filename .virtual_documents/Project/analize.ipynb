


import matplotlib.pyplot as plt
import pandas as pd
import seaborn as sns
import tensorflow.keras as keras
import numpy as np


#load dataset
df = pd.read_csv('mushroom_cleaned.csv')


#plot pairplot of the dataset
sns.pairplot(df)
plt.show()





# data normalization
for columns in df:
    max_val = np.max(df[columns])
    df[columns] /= max_val

df
