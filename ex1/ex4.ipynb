{
 "cells": [
  {
   "cell_type": "markdown",
   "id": "d1a0c257-6530-45ff-8945-f438c774594d",
   "metadata": {},
   "source": [
    "# Esercizio 4"
   ]
  },
  {
   "cell_type": "markdown",
   "id": "2c3355a3-f669-4c1c-a484-aa64e98be983",
   "metadata": {},
   "source": [
    "## Punto 1"
   ]
  },
  {
   "cell_type": "code",
   "execution_count": 5,
   "id": "f2cd02bd-9452-4738-b1ee-394b0c8d903a",
   "metadata": {},
   "outputs": [
    {
     "data": {
      "text/plain": [
       "[0, 1, 2, 3, 4, 5, 6, 7, 8, 9, 10, 11, 12, 13, 14, 15]"
      ]
     },
     "execution_count": 5,
     "metadata": {},
     "output_type": "execute_result"
    }
   ],
   "source": [
    "v=[i for i in range(16)]\n",
    "v"
   ]
  },
  {
   "cell_type": "markdown",
   "id": "9d0be706-35f0-4f84-88f7-2c7bced4f95d",
   "metadata": {},
   "source": [
    "## Punto 2"
   ]
  },
  {
   "cell_type": "code",
   "execution_count": 6,
   "id": "4889e450-c44c-4071-a072-f9abb8de2762",
   "metadata": {},
   "outputs": [
    {
     "data": {
      "text/plain": [
       "[1.2, 5, 6.44]"
      ]
     },
     "execution_count": 6,
     "metadata": {},
     "output_type": "execute_result"
    }
   ],
   "source": [
    "w=[]\n",
    "w+=[1.2,5,6.44]\n",
    "w"
   ]
  },
  {
   "cell_type": "markdown",
   "id": "057fc1a2-064a-4fdb-a69e-ec386da3cfc7",
   "metadata": {},
   "source": [
    "## Punto 3"
   ]
  },
  {
   "cell_type": "code",
   "execution_count": 7,
   "id": "6cf1ba73-4785-4c88-8783-45cb936d7e27",
   "metadata": {},
   "outputs": [
    {
     "name": "stdout",
     "output_type": "stream",
     "text": [
      "[10, 25, 5]\n"
     ]
    },
    {
     "data": {
      "text/plain": [
       "{'name': 'neuralnet', 'loss': 10, 'weights': [10, 25, 5]}"
      ]
     },
     "execution_count": 7,
     "metadata": {},
     "output_type": "execute_result"
    }
   ],
   "source": [
    "m={\n",
    "    \"name\": \"neuralnet\",\n",
    "    \"loss\": 0.12,\n",
    "    \"weights\": [10,25,5]\n",
    "}\n",
    "print(m[\"weights\"])\n",
    "m[\"loss\"]=10\n",
    "m"
   ]
  },
  {
   "cell_type": "markdown",
   "id": "d924fed5-619a-4cac-a419-8d1cf1cf7b46",
   "metadata": {},
   "source": [
    "## Punto 4"
   ]
  },
  {
   "cell_type": "code",
   "execution_count": 8,
   "id": "09d6f0f2-7e31-4797-b0d2-66147923822d",
   "metadata": {},
   "outputs": [
    {
     "data": {
      "text/plain": [
       "4.857142857142857"
      ]
     },
     "execution_count": 8,
     "metadata": {},
     "output_type": "execute_result"
    }
   ],
   "source": [
    "mylist=[2,6,3,8,9,11,-5]\n",
    "\n",
    "ave=0\n",
    "n=len(mylist)\n",
    "\n",
    "for ml in mylist:\n",
    "    ave+=ml\n",
    "ave/=n\n",
    "ave"
   ]
  },
  {
   "cell_type": "markdown",
   "id": "4870fa0c-2298-495d-9b29-741f8c117bdf",
   "metadata": {},
   "source": [
    "## Punto 5"
   ]
  },
  {
   "cell_type": "code",
   "execution_count": 9,
   "id": "d64cb3a4-d03b-4854-9ed6-32230f39f3be",
   "metadata": {},
   "outputs": [
    {
     "data": {
      "text/plain": [
       "[1, 2, 4, 8, 16, 32, 64, 128, 256, 512]"
      ]
     },
     "execution_count": 9,
     "metadata": {},
     "output_type": "execute_result"
    }
   ],
   "source": [
    "l=[2**n for n in range(10)]\n",
    "l"
   ]
  }
 ],
 "metadata": {
  "kernelspec": {
   "display_name": "Python 3 (ipykernel)",
   "language": "python",
   "name": "python3"
  },
  "language_info": {
   "codemirror_mode": {
    "name": "ipython",
    "version": 3
   },
   "file_extension": ".py",
   "mimetype": "text/x-python",
   "name": "python",
   "nbconvert_exporter": "python",
   "pygments_lexer": "ipython3",
   "version": "3.9.7"
  }
 },
 "nbformat": 4,
 "nbformat_minor": 5
}
